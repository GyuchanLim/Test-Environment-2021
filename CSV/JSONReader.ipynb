{
 "cells": [
  {
   "attachments": {},
   "cell_type": "markdown",
   "metadata": {},
   "source": [
    "<h2>JSON Reader</h2>\n",
    "<p>JSON is taken from finance.yahoo.com and is converted into easily transformable data structure\n",
    "<p>"
   ]
  },
  {
   "cell_type": "code",
   "execution_count": 27,
   "metadata": {},
   "outputs": [],
   "source": [
    "import json\n",
    "import os\n",
    "import datetime\n",
    "import pandas as pd\n",
    "import numpy"
   ]
  },
  {
   "attachments": {},
   "cell_type": "markdown",
   "metadata": {},
   "source": [
    "<h2>Helper Functions</h2>\n",
    "<li>print_array</li>\n",
    "<li>load_data</li>\n",
    "<li>UTC_milisecond_to_datetime</li>\n",
    "<li>extract_dataset</li>"
   ]
  },
  {
   "cell_type": "code",
   "execution_count": 32,
   "metadata": {},
   "outputs": [],
   "source": [
    "def print_array(list):\n",
    "    for x in list:\n",
    "        print(x, end='|type is ')\n",
    "        print(type(x))\n",
    "\n",
    "def load_data():\n",
    "    filename = os.getcwd() + '/market-price-2.json'\n",
    "\n",
    "    f = open(filename)\n",
    "    data = json.load(f)\n",
    "    \n",
    "    return data\n",
    "\n",
    "def UTC_milisecond_to_datetime(time_price_dictionary):\n",
    "    for dictionary in time_price_dictionary:\n",
    "        dictionary['x'] = (datetime.datetime.fromtimestamp(dictionary['x']/1000.0))\n",
    "\n",
    "def pandas_test(JSON_to_plot):\n",
    "    df = pd.DataFrame(JSON_to_plot)\n",
    "    print (df)\n",
    "    df.plot(x='x', y='y')\n",
    "\n",
    "def halving(to_half):\n",
    "    hdates = [datetime.datetime(2012, 11, 28, 0, 0), datetime.datetime(2016, 7, 9, 0, 0), datetime.datetime(2020, 5, 11, 0, 0)]\n",
    "    "
   ]
  },
  {
   "attachments": {},
   "cell_type": "markdown",
   "metadata": {},
   "source": [
    "<h2> Main Functions </h2>\n",
    "<p>Things to implement...</p>\n",
    "<p><s>plot the whole data set</s> : pandas_test</p>\n",
    "<p>ability to divide the dataset by halving dates</p>"
   ]
  },
  {
   "cell_type": "code",
   "execution_count": null,
   "metadata": {},
   "outputs": [],
   "source": []
  },
  {
   "attachments": {},
   "cell_type": "markdown",
   "metadata": {},
   "source": [
    "<h3>Execution"
   ]
  },
  {
   "cell_type": "code",
   "execution_count": 33,
   "metadata": {},
   "outputs": [
    {
     "name": "stdout",
     "output_type": "stream",
     "text": [
      "                       x         y\n",
      "0    2009-01-03 13:00:00      0.00\n",
      "1    2009-01-06 13:00:00      0.00\n",
      "2    2009-01-09 13:00:00      0.00\n",
      "3    2009-01-12 13:00:00      0.00\n",
      "4    2009-01-15 13:00:00      0.00\n",
      "...                  ...       ...\n",
      "1695 2022-12-06 13:00:00  16967.02\n",
      "1696 2022-12-09 13:00:00  17234.58\n",
      "1697 2022-12-12 13:00:00  17098.61\n",
      "1698 2022-12-15 13:00:00  17802.44\n",
      "1699 2022-12-18 13:00:00  16783.60\n",
      "\n",
      "[1700 rows x 2 columns]\n"
     ]
    },
    {
     "data": {
      "image/png": "[encoded data removed]",
      "text/plain": [
       "<Figure size 640x480 with 1 Axes>"
      ]
     },
     "metadata": {},
     "output_type": "display_data"
    }
   ],
   "source": [
    "data = load_data()\n",
    "\n",
    "UTC_milisecond_to_datetime(data['market-price'])\n",
    "halving(data['market-price'])\n",
    "pandas_test(data['market-price'])\n"
   ]
  },
  {
   "cell_type": "code",
   "execution_count": 57,
   "metadata": {},
   "outputs": [
    {
     "name": "stdout",
     "output_type": "stream",
     "text": [
      "Halving date reached or exceeded, incrementing halving date counter. Currently at halving date number 1 2012-11-28 00:00:00\n",
      "Halving date reached or exceeded, incrementing halving date counter. Currently at halving date number 2 2016-07-09 00:00:00\n",
      "Halving date reached or exceeded, incrementing halving date counter. Currently at halving date number 3 2020-05-11 00:00:00\n",
      "[                      x      y\n",
      "0   2009-01-03 13:00:00   0.00\n",
      "1   2009-01-06 13:00:00   0.00\n",
      "2   2009-01-09 13:00:00   0.00\n",
      "3   2009-01-12 13:00:00   0.00\n",
      "4   2009-01-15 13:00:00   0.00\n",
      "..                  ...    ...\n",
      "470 2012-11-13 13:00:00  11.17\n",
      "471 2012-11-16 13:00:00  11.28\n",
      "472 2012-11-19 13:00:00  11.82\n",
      "473 2012-11-22 13:00:00  11.90\n",
      "474 2012-11-25 13:00:00  12.46\n",
      "\n",
      "[475 rows x 2 columns],                       x       y\n",
      "475 2012-11-28 13:00:00   12.50\n",
      "476 2012-12-01 13:00:00   12.66\n",
      "477 2012-12-04 13:00:00   12.75\n",
      "478 2012-12-07 13:00:00   13.69\n",
      "479 2012-12-10 13:00:00   13.53\n",
      "..                  ...     ...\n",
      "910 2016-06-25 12:00:00  665.00\n",
      "911 2016-06-28 12:00:00  651.85\n",
      "912 2016-07-01 12:00:00  667.95\n",
      "913 2016-07-04 12:00:00  656.97\n",
      "914 2016-07-07 12:00:00  673.76\n",
      "\n",
      "[440 rows x 2 columns],                        x         y\n",
      "915  2016-07-10 12:00:00    647.41\n",
      "916  2016-07-13 12:00:00    664.50\n",
      "917  2016-07-16 12:00:00    663.19\n",
      "918  2016-07-19 12:00:00    673.46\n",
      "919  2016-07-22 12:00:00    664.00\n",
      "...                  ...       ...\n",
      "1377 2020-04-26 12:00:00   7549.52\n",
      "1378 2020-04-29 12:00:00   7765.33\n",
      "1379 2020-05-02 12:00:00   8824.66\n",
      "1380 2020-05-05 12:00:00   8885.93\n",
      "1381 2020-05-08 12:00:00  10002.48\n",
      "\n",
      "[467 rows x 2 columns],                        x         y\n",
      "1382 2020-05-11 12:00:00   8754.46\n",
      "1383 2020-05-14 12:00:00   9305.93\n",
      "1384 2020-05-17 12:00:00   9385.70\n",
      "1385 2020-05-20 12:00:00   9785.74\n",
      "1386 2020-05-23 12:00:00   9167.26\n",
      "...                  ...       ...\n",
      "1695 2022-12-06 13:00:00  16967.02\n",
      "1696 2022-12-09 13:00:00  17234.58\n",
      "1697 2022-12-12 13:00:00  17098.61\n",
      "1698 2022-12-15 13:00:00  17802.44\n",
      "1699 2022-12-18 13:00:00  16783.60\n",
      "\n",
      "[318 rows x 2 columns]]\n"
     ]
    }
   ],
   "source": [
    "hdates = [datetime.datetime(2012, 11, 28, 0, 0), datetime.datetime(2016, 7, 9, 0, 0), datetime.datetime(2020, 5, 11, 0, 0)]\n",
    "d_index = 0\n",
    "h_index = 0\n",
    "halved_dataset = []\n",
    "df = pd.DataFrame(data['market-price'])\n",
    "for index, row in df.iterrows():\n",
    "    if d_index!= len(hdates) and hdates[d_index] < row['x']:\n",
    "        print('Halving date reached or exceeded, incrementing halving date counter. Currently at halving date number ' +str(d_index+1)+' '+ str(hdates[d_index]))\n",
    "        d_index+=1\n",
    "        halved_dataset.append(df.iloc[h_index:index])\n",
    "        h_index = index\n",
    "halved_dataset.append(df.iloc[h_index:])\n",
    "print(halved_dataset)\n",
    "    "
   ]
  },
  {
   "cell_type": "code",
   "execution_count": 53,
   "metadata": {},
   "outputs": [],
   "source": [
    "df = pd.DataFrame(data['market-price'])"
   ]
  },
  {
   "cell_type": "code",
   "execution_count": null,
   "metadata": {},
   "outputs": [],
   "source": []
  }
 ],
 "metadata": {
  "kernelspec": {
   "display_name": ".venv",
   "language": "python",
   "name": "python3"
  },
  "language_info": {
   "codemirror_mode": {
    "name": "ipython",
    "version": 3
   },
   "file_extension": ".py",
   "mimetype": "text/x-python",
   "name": "python",
   "nbconvert_exporter": "python",
   "pygments_lexer": "ipython3",
   "version": "3.9.6"
  },
  "orig_nbformat": 4,
  "vscode": {
   "interpreter": {
    "hash": "4cd8b86ef0c626b8b415006881482970a94578b9f020c64387e861a63fe68cde"
   }
  }
 },
 "nbformat": 4,
 "nbformat_minor": 2
}
