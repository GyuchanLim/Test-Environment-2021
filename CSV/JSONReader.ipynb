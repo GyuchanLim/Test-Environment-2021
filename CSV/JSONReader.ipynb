{
 "cells": [
  {
   "attachments": {},
   "cell_type": "markdown",
   "metadata": {},
   "source": [
    "<h2>JSON Reader</h2>\n",
    "<p>JSON is taken from finance.yahoo.com and is converted into easily transformable data structure\n",
    "<p>"
   ]
  },
  {
   "cell_type": "code",
   "execution_count": 4,
   "metadata": {},
   "outputs": [],
   "source": [
    "import json\n",
    "import os\n",
    "import datetime"
   ]
  },
  {
   "attachments": {},
   "cell_type": "markdown",
   "metadata": {},
   "source": [
    "<h3>Helper Functions"
   ]
  },
  {
   "cell_type": "code",
   "execution_count": 20,
   "metadata": {},
   "outputs": [],
   "source": [
    "def print_array(list):\n",
    "    for x in list:\n",
    "        print(x, end='|type is ')\n",
    "        print(type(x))\n",
    "\n",
    "def load_data():\n",
    "    filename = os.getcwd() + '/market-price-2.json'\n",
    "\n",
    "    f = open(filename)\n",
    "    data = json.load(f)\n",
    "    \n",
    "    return data\n",
    "\n",
    "def UTC_milisecond_to_datetime(time_price_dictionary):\n",
    "    for dictionary in time_price_dictionary:\n",
    "        dictionary['x'] = (datetime.datetime.fromtimestamp(dictionary['x']/1000.0))"
   ]
  },
  {
   "cell_type": "code",
   "execution_count": 21,
   "metadata": {},
   "outputs": [],
   "source": [
    "data = load_data()\n",
    "\n",
    "UTC_milisecond_to_datetime(data['market-price'])\n"
   ]
  },
  {
   "cell_type": "code",
   "execution_count": null,
   "metadata": {},
   "outputs": [],
   "source": []
  }
 ],
 "metadata": {
  "kernelspec": {
   "display_name": ".venv",
   "language": "python",
   "name": "python3"
  },
  "language_info": {
   "codemirror_mode": {
    "name": "ipython",
    "version": 3
   },
   "file_extension": ".py",
   "mimetype": "text/x-python",
   "name": "python",
   "nbconvert_exporter": "python",
   "pygments_lexer": "ipython3",
   "version": "3.9.6"
  },
  "orig_nbformat": 4,
  "vscode": {
   "interpreter": {
    "hash": "4cd8b86ef0c626b8b415006881482970a94578b9f020c64387e861a63fe68cde"
   }
  }
 },
 "nbformat": 4,
 "nbformat_minor": 2
}
