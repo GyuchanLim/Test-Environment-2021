{
 "cells": [
  {
   "cell_type": "code",
   "execution_count": 1,
   "metadata": {},
   "outputs": [],
   "source": [
    "import csv\n",
    "import copy\n",
    "import datetime\n",
    "import matplotlib.pyplot as plt"
   ]
  },
  {
   "cell_type": "code",
   "execution_count": 2,
   "metadata": {},
   "outputs": [],
   "source": [
    "hdates = ['2012-11-28','2016-07-09','2020-05-11']\n",
    "for index,date in enumerate(hdates):\n",
    "    dt_obj = datetime.datetime.strptime(date, \"%Y-%m-%d\")\n",
    "    hdates[index]=dt_obj\n",
    "non_zero = True"
   ]
  },
  {
   "cell_type": "code",
   "execution_count": 3,
   "metadata": {},
   "outputs": [],
   "source": [
    "def open_CSV(fileName, halving, end_date = None):\n",
    "    \"\"\"\n",
    "    'fileName', STRING, directory for the csv File.\\n\n",
    "    'halving', BOOLEAN, Applies BTC_Halving filter if True, no filter if False.\\n\n",
    "    'end_date', \"YYYY-MM-DD\", Extrapolates data for dates from end of csv File until end date stated. DEFAULTS to None.\\n\n",
    "    Returns : A list of [date, value]. \n",
    "    If halving is 'True' list of smaller lists is returned. \n",
    "    Else one whole list is returned.\n",
    "    \"\"\"\n",
    "    priceList = []\n",
    "    temp_list = []\n",
    "    with open(fileName, newline='') as csvfile:\n",
    "        spamreader = csv.reader(csvfile, delimiter=',', quotechar='|')\n",
    "        for row in spamreader:\n",
    "            if row[0] == 'ï»¿Timestamp':\n",
    "                continue\n",
    "            else:\n",
    "                time, price = row\n",
    "                dt_obj = datetime.datetime.strptime(time, \"%Y-%m-%d %H:%M:%S\")\n",
    "                priceList.append([dt_obj,price])\n",
    "        if end_date != None:\n",
    "            ed = datetime.datetime.strptime(end_date, \"%Y-%m-%d\")\n",
    "            dt_obj += datetime.timedelta(days=3)\n",
    "            priceList.append([dt_obj,0])\n",
    "            priceList.append([ed,0])\n",
    "            end_date = None\n",
    "        if halving:\n",
    "            halved_list = []\n",
    "            halving_dates = copy.deepcopy(hdates)\n",
    "            for time,price in priceList:\n",
    "                if len(halving_dates)!=0 and time > halving_dates[0]:\n",
    "                    halved_list.append(copy.deepcopy(temp_list))\n",
    "                    temp_list.clear()\n",
    "                    halving_dates.remove(halving_dates[0])\n",
    "                temp_list.append([time,price])\n",
    "            halved_list.append(copy.deepcopy(temp_list))\n",
    "            temp_list.clear()\n",
    "        else:\n",
    "            return [priceList]\n",
    "        return halved_list"
   ]
  },
  {
   "cell_type": "code",
   "execution_count": 4,
   "metadata": {},
   "outputs": [],
   "source": [
    "def plot_halves(datePrice, style):\n",
    "    \"\"\"\n",
    "    'datePrice', ARRAY [date, value], from the csv file.\\n\n",
    "    'style', BOOLEAN, plots all in one figure if False, separately if True.\\n\n",
    "    Plots Linear Scaled chart. If 'style' is False: Plot all in one. True: Plot in separate\n",
    "    \"\"\"\n",
    "    x=[]\n",
    "    y=[]\n",
    "    for index, dp in enumerate(datePrice):\n",
    "        for date,price in datePrice[index]:\n",
    "            #print(price)\n",
    "            x.append(date)\n",
    "            y.append(float(price))\n",
    "        if style:\n",
    "            plt.figure()\n",
    "        plt.plot(x,y)\n",
    "        plt.gcf().autofmt_xdate()\n",
    "        #print(len(x),len(y))\n",
    "        x.clear()\n",
    "        y.clear()\n",
    "    plt.show()"
   ]
  },
  {
   "cell_type": "code",
   "execution_count": 5,
   "metadata": {},
   "outputs": [
    {
     "data": {
      "image/png": "[encoded data removed]",
      "text/plain": [
       "<Figure size 432x288 with 1 Axes>"
      ]
     },
     "metadata": {
      "needs_background": "light"
     },
     "output_type": "display_data"
    }
   ],
   "source": [
    "halves = open_CSV('BTCPrice.csv', True, \"2024-03-27\")\n",
    "plot_halves(halves, False)"
   ]
  },
  {
   "cell_type": "code",
   "execution_count": 6,
   "metadata": {},
   "outputs": [
    {
     "data": {
      "image/png": "[encoded data removed]",
      "text/plain": [
       "<Figure size 432x288 with 1 Axes>"
      ]
     },
     "metadata": {
      "needs_background": "light"
     },
     "output_type": "display_data"
    }
   ],
   "source": [
    "supply = open_CSV('BTCSupply.csv', True, \"2024-03-27\")\n",
    "plot_halves(supply, False)"
   ]
  },
  {
   "cell_type": "code",
   "execution_count": 7,
   "metadata": {},
   "outputs": [
    {
     "name": "stdout",
     "output_type": "stream",
     "text": [
      "2011-12-20 00:00:00\n",
      "2012-03-29 00:00:00\n"
     ]
    }
   ],
   "source": [
    "StartDate = \"12/10/11\"\n",
    "\n",
    "Date = datetime.datetime.strptime(StartDate, \"%m/%d/%y\") + datetime.timedelta(days=10)\n",
    "print(Date)\n",
    "for x in range(10):\n",
    "    Date += datetime.timedelta(days=10)\n",
    "print(Date)"
   ]
  }
 ],
 "metadata": {
  "interpreter": {
   "hash": "9f44cf1e49553336367b727704a346e8df75a080b13571902354dec2ed29b993"
  },
  "kernelspec": {
   "display_name": "Python 3.9.9 64-bit ('venv': venv)",
   "language": "python",
   "name": "python3"
  },
  "language_info": {
   "codemirror_mode": {
    "name": "ipython",
    "version": 3
   },
   "file_extension": ".py",
   "mimetype": "text/x-python",
   "name": "python",
   "nbconvert_exporter": "python",
   "pygments_lexer": "ipython3",
   "version": "3.9.9"
  },
  "orig_nbformat": 4
 },
 "nbformat": 4,
 "nbformat_minor": 2
}
